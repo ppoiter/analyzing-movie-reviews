{
 "cells": [
  {
   "cell_type": "code",
   "execution_count": 2,
   "metadata": {
    "collapsed": true
   },
   "outputs": [],
   "source": [
    "import pandas as pd\n",
    "import numpy as np\n",
    "import seaborn as sns\n",
    "import matplotlib.pyplot as plt\n",
    "%matplotlib inline\n",
    "sns.set(color_codes = True)"
   ]
  },
  {
   "cell_type": "code",
   "execution_count": 12,
   "metadata": {},
   "outputs": [
    {
     "data": {
      "text/html": [
       "<div>\n",
       "<table border=\"1\" class=\"dataframe\">\n",
       "  <thead>\n",
       "    <tr style=\"text-align: right;\">\n",
       "      <th></th>\n",
       "      <th>FILM</th>\n",
       "      <th>RottenTomatoes</th>\n",
       "      <th>RottenTomatoes_User</th>\n",
       "      <th>Metacritic</th>\n",
       "      <th>Metacritic_User</th>\n",
       "      <th>IMDB</th>\n",
       "      <th>Fandango_Stars</th>\n",
       "      <th>Fandango_Ratingvalue</th>\n",
       "      <th>RT_norm</th>\n",
       "      <th>RT_user_norm</th>\n",
       "      <th>...</th>\n",
       "      <th>IMDB_norm</th>\n",
       "      <th>RT_norm_round</th>\n",
       "      <th>RT_user_norm_round</th>\n",
       "      <th>Metacritic_norm_round</th>\n",
       "      <th>Metacritic_user_norm_round</th>\n",
       "      <th>IMDB_norm_round</th>\n",
       "      <th>Metacritic_user_vote_count</th>\n",
       "      <th>IMDB_user_vote_count</th>\n",
       "      <th>Fandango_votes</th>\n",
       "      <th>Fandango_Difference</th>\n",
       "    </tr>\n",
       "  </thead>\n",
       "  <tbody>\n",
       "    <tr>\n",
       "      <th>0</th>\n",
       "      <td>Avengers: Age of Ultron (2015)</td>\n",
       "      <td>74</td>\n",
       "      <td>86</td>\n",
       "      <td>66</td>\n",
       "      <td>7.1</td>\n",
       "      <td>7.8</td>\n",
       "      <td>5.0</td>\n",
       "      <td>4.5</td>\n",
       "      <td>3.70</td>\n",
       "      <td>4.30</td>\n",
       "      <td>...</td>\n",
       "      <td>3.90</td>\n",
       "      <td>3.5</td>\n",
       "      <td>4.5</td>\n",
       "      <td>3.5</td>\n",
       "      <td>3.5</td>\n",
       "      <td>4.0</td>\n",
       "      <td>1330</td>\n",
       "      <td>271107</td>\n",
       "      <td>14846</td>\n",
       "      <td>0.5</td>\n",
       "    </tr>\n",
       "    <tr>\n",
       "      <th>1</th>\n",
       "      <td>Cinderella (2015)</td>\n",
       "      <td>85</td>\n",
       "      <td>80</td>\n",
       "      <td>67</td>\n",
       "      <td>7.5</td>\n",
       "      <td>7.1</td>\n",
       "      <td>5.0</td>\n",
       "      <td>4.5</td>\n",
       "      <td>4.25</td>\n",
       "      <td>4.00</td>\n",
       "      <td>...</td>\n",
       "      <td>3.55</td>\n",
       "      <td>4.5</td>\n",
       "      <td>4.0</td>\n",
       "      <td>3.5</td>\n",
       "      <td>4.0</td>\n",
       "      <td>3.5</td>\n",
       "      <td>249</td>\n",
       "      <td>65709</td>\n",
       "      <td>12640</td>\n",
       "      <td>0.5</td>\n",
       "    </tr>\n",
       "    <tr>\n",
       "      <th>2</th>\n",
       "      <td>Ant-Man (2015)</td>\n",
       "      <td>80</td>\n",
       "      <td>90</td>\n",
       "      <td>64</td>\n",
       "      <td>8.1</td>\n",
       "      <td>7.8</td>\n",
       "      <td>5.0</td>\n",
       "      <td>4.5</td>\n",
       "      <td>4.00</td>\n",
       "      <td>4.50</td>\n",
       "      <td>...</td>\n",
       "      <td>3.90</td>\n",
       "      <td>4.0</td>\n",
       "      <td>4.5</td>\n",
       "      <td>3.0</td>\n",
       "      <td>4.0</td>\n",
       "      <td>4.0</td>\n",
       "      <td>627</td>\n",
       "      <td>103660</td>\n",
       "      <td>12055</td>\n",
       "      <td>0.5</td>\n",
       "    </tr>\n",
       "    <tr>\n",
       "      <th>3</th>\n",
       "      <td>Do You Believe? (2015)</td>\n",
       "      <td>18</td>\n",
       "      <td>84</td>\n",
       "      <td>22</td>\n",
       "      <td>4.7</td>\n",
       "      <td>5.4</td>\n",
       "      <td>5.0</td>\n",
       "      <td>4.5</td>\n",
       "      <td>0.90</td>\n",
       "      <td>4.20</td>\n",
       "      <td>...</td>\n",
       "      <td>2.70</td>\n",
       "      <td>1.0</td>\n",
       "      <td>4.0</td>\n",
       "      <td>1.0</td>\n",
       "      <td>2.5</td>\n",
       "      <td>2.5</td>\n",
       "      <td>31</td>\n",
       "      <td>3136</td>\n",
       "      <td>1793</td>\n",
       "      <td>0.5</td>\n",
       "    </tr>\n",
       "    <tr>\n",
       "      <th>4</th>\n",
       "      <td>Hot Tub Time Machine 2 (2015)</td>\n",
       "      <td>14</td>\n",
       "      <td>28</td>\n",
       "      <td>29</td>\n",
       "      <td>3.4</td>\n",
       "      <td>5.1</td>\n",
       "      <td>3.5</td>\n",
       "      <td>3.0</td>\n",
       "      <td>0.70</td>\n",
       "      <td>1.40</td>\n",
       "      <td>...</td>\n",
       "      <td>2.55</td>\n",
       "      <td>0.5</td>\n",
       "      <td>1.5</td>\n",
       "      <td>1.5</td>\n",
       "      <td>1.5</td>\n",
       "      <td>2.5</td>\n",
       "      <td>88</td>\n",
       "      <td>19560</td>\n",
       "      <td>1021</td>\n",
       "      <td>0.5</td>\n",
       "    </tr>\n",
       "    <tr>\n",
       "      <th>5</th>\n",
       "      <td>The Water Diviner (2015)</td>\n",
       "      <td>63</td>\n",
       "      <td>62</td>\n",
       "      <td>50</td>\n",
       "      <td>6.8</td>\n",
       "      <td>7.2</td>\n",
       "      <td>4.5</td>\n",
       "      <td>4.0</td>\n",
       "      <td>3.15</td>\n",
       "      <td>3.10</td>\n",
       "      <td>...</td>\n",
       "      <td>3.60</td>\n",
       "      <td>3.0</td>\n",
       "      <td>3.0</td>\n",
       "      <td>2.5</td>\n",
       "      <td>3.5</td>\n",
       "      <td>3.5</td>\n",
       "      <td>34</td>\n",
       "      <td>39373</td>\n",
       "      <td>397</td>\n",
       "      <td>0.5</td>\n",
       "    </tr>\n",
       "    <tr>\n",
       "      <th>6</th>\n",
       "      <td>Irrational Man (2015)</td>\n",
       "      <td>42</td>\n",
       "      <td>53</td>\n",
       "      <td>53</td>\n",
       "      <td>7.6</td>\n",
       "      <td>6.9</td>\n",
       "      <td>4.0</td>\n",
       "      <td>3.5</td>\n",
       "      <td>2.10</td>\n",
       "      <td>2.65</td>\n",
       "      <td>...</td>\n",
       "      <td>3.45</td>\n",
       "      <td>2.0</td>\n",
       "      <td>2.5</td>\n",
       "      <td>2.5</td>\n",
       "      <td>4.0</td>\n",
       "      <td>3.5</td>\n",
       "      <td>17</td>\n",
       "      <td>2680</td>\n",
       "      <td>252</td>\n",
       "      <td>0.5</td>\n",
       "    </tr>\n",
       "    <tr>\n",
       "      <th>7</th>\n",
       "      <td>Top Five (2014)</td>\n",
       "      <td>86</td>\n",
       "      <td>64</td>\n",
       "      <td>81</td>\n",
       "      <td>6.8</td>\n",
       "      <td>6.5</td>\n",
       "      <td>4.0</td>\n",
       "      <td>3.5</td>\n",
       "      <td>4.30</td>\n",
       "      <td>3.20</td>\n",
       "      <td>...</td>\n",
       "      <td>3.25</td>\n",
       "      <td>4.5</td>\n",
       "      <td>3.0</td>\n",
       "      <td>4.0</td>\n",
       "      <td>3.5</td>\n",
       "      <td>3.5</td>\n",
       "      <td>124</td>\n",
       "      <td>16876</td>\n",
       "      <td>3223</td>\n",
       "      <td>0.5</td>\n",
       "    </tr>\n",
       "    <tr>\n",
       "      <th>8</th>\n",
       "      <td>Shaun the Sheep Movie (2015)</td>\n",
       "      <td>99</td>\n",
       "      <td>82</td>\n",
       "      <td>81</td>\n",
       "      <td>8.8</td>\n",
       "      <td>7.4</td>\n",
       "      <td>4.5</td>\n",
       "      <td>4.0</td>\n",
       "      <td>4.95</td>\n",
       "      <td>4.10</td>\n",
       "      <td>...</td>\n",
       "      <td>3.70</td>\n",
       "      <td>5.0</td>\n",
       "      <td>4.0</td>\n",
       "      <td>4.0</td>\n",
       "      <td>4.5</td>\n",
       "      <td>3.5</td>\n",
       "      <td>62</td>\n",
       "      <td>12227</td>\n",
       "      <td>896</td>\n",
       "      <td>0.5</td>\n",
       "    </tr>\n",
       "    <tr>\n",
       "      <th>9</th>\n",
       "      <td>Love &amp; Mercy (2015)</td>\n",
       "      <td>89</td>\n",
       "      <td>87</td>\n",
       "      <td>80</td>\n",
       "      <td>8.5</td>\n",
       "      <td>7.8</td>\n",
       "      <td>4.5</td>\n",
       "      <td>4.0</td>\n",
       "      <td>4.45</td>\n",
       "      <td>4.35</td>\n",
       "      <td>...</td>\n",
       "      <td>3.90</td>\n",
       "      <td>4.5</td>\n",
       "      <td>4.5</td>\n",
       "      <td>4.0</td>\n",
       "      <td>4.5</td>\n",
       "      <td>4.0</td>\n",
       "      <td>54</td>\n",
       "      <td>5367</td>\n",
       "      <td>864</td>\n",
       "      <td>0.5</td>\n",
       "    </tr>\n",
       "  </tbody>\n",
       "</table>\n",
       "<p>10 rows × 22 columns</p>\n",
       "</div>"
      ],
      "text/plain": [
       "                             FILM  RottenTomatoes  RottenTomatoes_User  \\\n",
       "0  Avengers: Age of Ultron (2015)              74                   86   \n",
       "1               Cinderella (2015)              85                   80   \n",
       "2                  Ant-Man (2015)              80                   90   \n",
       "3          Do You Believe? (2015)              18                   84   \n",
       "4   Hot Tub Time Machine 2 (2015)              14                   28   \n",
       "5        The Water Diviner (2015)              63                   62   \n",
       "6           Irrational Man (2015)              42                   53   \n",
       "7                 Top Five (2014)              86                   64   \n",
       "8    Shaun the Sheep Movie (2015)              99                   82   \n",
       "9             Love & Mercy (2015)              89                   87   \n",
       "\n",
       "   Metacritic  Metacritic_User  IMDB  Fandango_Stars  Fandango_Ratingvalue  \\\n",
       "0          66              7.1   7.8             5.0                   4.5   \n",
       "1          67              7.5   7.1             5.0                   4.5   \n",
       "2          64              8.1   7.8             5.0                   4.5   \n",
       "3          22              4.7   5.4             5.0                   4.5   \n",
       "4          29              3.4   5.1             3.5                   3.0   \n",
       "5          50              6.8   7.2             4.5                   4.0   \n",
       "6          53              7.6   6.9             4.0                   3.5   \n",
       "7          81              6.8   6.5             4.0                   3.5   \n",
       "8          81              8.8   7.4             4.5                   4.0   \n",
       "9          80              8.5   7.8             4.5                   4.0   \n",
       "\n",
       "   RT_norm  RT_user_norm         ...           IMDB_norm  RT_norm_round  \\\n",
       "0     3.70          4.30         ...                3.90            3.5   \n",
       "1     4.25          4.00         ...                3.55            4.5   \n",
       "2     4.00          4.50         ...                3.90            4.0   \n",
       "3     0.90          4.20         ...                2.70            1.0   \n",
       "4     0.70          1.40         ...                2.55            0.5   \n",
       "5     3.15          3.10         ...                3.60            3.0   \n",
       "6     2.10          2.65         ...                3.45            2.0   \n",
       "7     4.30          3.20         ...                3.25            4.5   \n",
       "8     4.95          4.10         ...                3.70            5.0   \n",
       "9     4.45          4.35         ...                3.90            4.5   \n",
       "\n",
       "   RT_user_norm_round  Metacritic_norm_round  Metacritic_user_norm_round  \\\n",
       "0                 4.5                    3.5                         3.5   \n",
       "1                 4.0                    3.5                         4.0   \n",
       "2                 4.5                    3.0                         4.0   \n",
       "3                 4.0                    1.0                         2.5   \n",
       "4                 1.5                    1.5                         1.5   \n",
       "5                 3.0                    2.5                         3.5   \n",
       "6                 2.5                    2.5                         4.0   \n",
       "7                 3.0                    4.0                         3.5   \n",
       "8                 4.0                    4.0                         4.5   \n",
       "9                 4.5                    4.0                         4.5   \n",
       "\n",
       "   IMDB_norm_round  Metacritic_user_vote_count  IMDB_user_vote_count  \\\n",
       "0              4.0                        1330                271107   \n",
       "1              3.5                         249                 65709   \n",
       "2              4.0                         627                103660   \n",
       "3              2.5                          31                  3136   \n",
       "4              2.5                          88                 19560   \n",
       "5              3.5                          34                 39373   \n",
       "6              3.5                          17                  2680   \n",
       "7              3.5                         124                 16876   \n",
       "8              3.5                          62                 12227   \n",
       "9              4.0                          54                  5367   \n",
       "\n",
       "   Fandango_votes  Fandango_Difference  \n",
       "0           14846                  0.5  \n",
       "1           12640                  0.5  \n",
       "2           12055                  0.5  \n",
       "3            1793                  0.5  \n",
       "4            1021                  0.5  \n",
       "5             397                  0.5  \n",
       "6             252                  0.5  \n",
       "7            3223                  0.5  \n",
       "8             896                  0.5  \n",
       "9             864                  0.5  \n",
       "\n",
       "[10 rows x 22 columns]"
      ]
     },
     "execution_count": 12,
     "metadata": {},
     "output_type": "execute_result"
    }
   ],
   "source": [
    "movies = pd.read_csv('fandango_score_comparison.csv')\n",
    "movies.head(10)"
   ]
  },
  {
   "cell_type": "code",
   "execution_count": 14,
   "metadata": {},
   "outputs": [
    {
     "name": "stdout",
     "output_type": "stream",
     "text": [
      "3.0    27\n",
      "4.0    25\n",
      "2.5    22\n",
      "1.5    20\n",
      "3.5    20\n",
      "4.5    15\n",
      "2.0    14\n",
      "1.0     2\n",
      "0.5     1\n",
      "Name: Metacritic_norm_round, dtype: int64\n"
     ]
    }
   ],
   "source": [
    "#quick look at metacritic ratings\n",
    "print(movies[\"Metacritic_norm_round\"].value_counts())"
   ]
  },
  {
   "cell_type": "code",
   "execution_count": 19,
   "metadata": {},
   "outputs": [
    {
     "data": {
      "text/plain": [
       "<matplotlib.text.Text at 0x11147d7b8>"
      ]
     },
     "execution_count": 19,
     "metadata": {},
     "output_type": "execute_result"
    },
    {
     "data": {
      "image/png": "[encoded data removed]",
      "text/plain": [
       "<matplotlib.figure.Figure at 0x111614f98>"
      ]
     },
     "metadata": {},
     "output_type": "display_data"
    }
   ],
   "source": [
    "mc_norm_round = sns.distplot(movies[\"Metacritic_norm_round\"], kde = False )\n",
    "axes = mc_norm_round.axes\n",
    "axes.set_xlim(0,5)\n",
    "axes.grid(False)\n",
    "axes.set_xlabel('Distribution of Metacritic Movie Ratings', fontsize = 14)"
   ]
  },
  {
   "cell_type": "code",
   "execution_count": 26,
   "metadata": {
    "collapsed": true
   },
   "outputs": [],
   "source": [
    "#this shows spread but have to forgive positions"
   ]
  },
  {
   "cell_type": "code",
   "execution_count": 22,
   "metadata": {},
   "outputs": [
    {
     "name": "stdout",
     "output_type": "stream",
     "text": [
      "4.5    55\n",
      "4.0    41\n",
      "3.5    27\n",
      "3.0    12\n",
      "5.0    11\n",
      "Name: Fandango_Stars, dtype: int64\n"
     ]
    }
   ],
   "source": [
    "print(movies[\"Fandango_Stars\"].value_counts())"
   ]
  },
  {
   "cell_type": "code",
   "execution_count": 21,
   "metadata": {},
   "outputs": [
    {
     "data": {
      "text/plain": [
       "<matplotlib.text.Text at 0x111a20668>"
      ]
     },
     "execution_count": 21,
     "metadata": {},
     "output_type": "execute_result"
    },
    {
     "data": {
      "image/png": "[encoded data removed]",
      "text/plain": [
       "<matplotlib.figure.Figure at 0x1112e25f8>"
      ]
     },
     "metadata": {},
     "output_type": "display_data"
    }
   ],
   "source": [
    "fnd_stars = sns.distplot(movies[\"Fandango_Stars\"], kde = False )\n",
    "axes = fnd_stars.axes\n",
    "axes.set_xlim(0,5)\n",
    "axes.grid(False)\n",
    "axes.set_xlabel('Distribution of Fandango Stars', fontsize = 14)"
   ]
  },
  {
   "cell_type": "markdown",
   "metadata": {},
   "source": [
    "Fandango ratings are clearly higher on average whereas metacritic has a more even distribution. There are no fandango ratings below 3 stars, which means that you can probably trust a high Fandango rating more. "
   ]
  },
  {
   "cell_type": "markdown",
   "metadata": {},
   "source": [
    "While a quick visualisation is all well and good, calculating summary statistics will give us a better idea of their differences"
   ]
  },
  {
   "cell_type": "code",
   "execution_count": 23,
   "metadata": {
    "collapsed": true
   },
   "outputs": [],
   "source": [
    "mean_fnd_stars = sum(movies[\"Fandango_Stars\"]) / len(movies[\"Fandango_Stars\"])\n",
    "mean_mc_norm_round = sum(movies[\"Metacritic_norm_round\"]) / len(movies[\"Metacritic_norm_round\"])\n",
    "median_fnd_stars = np.median(movies[\"Fandango_Stars\"])\n",
    "median_mc_norm_round = np.median(movies[\"Metacritic_norm_round\"])\n",
    "std_fnd_stars = np.std(movies[\"Fandango_Stars\"])\n",
    "std_mc_norm_round = np.std(movies[\"Metacritic_norm_round\"])"
   ]
  },
  {
   "cell_type": "code",
   "execution_count": 28,
   "metadata": {},
   "outputs": [
    {
     "name": "stdout",
     "output_type": "stream",
     "text": [
      "Fandango ratings mean: 4.1\n",
      "Metacritic ratings mean: 3.0\n",
      "-----\n",
      "Fandango rating median: 4.0\n",
      "Metacritic rating median: 3.0\n",
      "-----\n",
      "Fandango rating standard deviation: 0.5\n",
      "Metacritic rating standard deviation: 1.0\n"
     ]
    }
   ],
   "source": [
    "print(\"Fandango ratings mean:\",format(mean_fnd_stars,'.1f'))\n",
    "print(\"Metacritic ratings mean:\",format(mean_mc_norm_round,'.1f'))\n",
    "print('-----')\n",
    "print(\"Fandango rating median:\",median_fnd_stars)\n",
    "print(\"Metacritic rating median:\",median_mc_norm_round)\n",
    "print('-----')\n",
    "print(\"Fandango rating standard deviation:\",format(std_fnd_stars,'.1f'))\n",
    "print(\"Metacritic rating standard deviation:\",format(std_mc_norm_round, '.1f'))"
   ]
  },
  {
   "cell_type": "markdown",
   "metadata": {},
   "source": [
    "In terms of methodology, Fandango appears to give higher ratings, with at least half of all receiving more than 4/5. Metacritic publishes critic ratings, and is transparent about how they aggregate them to get a final rating."
   ]
  },
  {
   "cell_type": "markdown",
   "metadata": {},
   "source": [
    "The median metacritic score is noticeably higher than the mean because a few very low scores influence the mean more. The median fandango score is lower than the mean fandango score because a few very high ratings \"drag up\" the mean.\n",
    "\n",
    "Fandango ratings are mostly grouped between 3 and 5, and have a much narrower random than Metacritic reviews, which range between 0 and 5."
   ]
  },
  {
   "cell_type": "markdown",
   "metadata": {},
   "source": [
    "Now to look at correlations, and whether we could predict Fandango ratings based on those of metacritic:"
   ]
  },
  {
   "cell_type": "code",
   "execution_count": 31,
   "metadata": {},
   "outputs": [
    {
     "data": {
      "text/plain": [
       "<matplotlib.text.Text at 0x111c1ceb8>"
      ]
     },
     "execution_count": 31,
     "metadata": {},
     "output_type": "execute_result"
    },
    {
     "data": {
      "image/png": "[encoded data removed]",
      "text/plain": [
       "<matplotlib.figure.Figure at 0x111747710>"
      ]
     },
     "metadata": {},
     "output_type": "display_data"
    }
   ],
   "source": [
    "scatter = sns.regplot(x=movies[\"Fandango_Stars\"], y=movies[\"Metacritic_norm_round\"], fit_reg=False)\n",
    "scatter.grid(False)\n",
    "scatter.set_xlabel('Fandango Stars', Fontsize = 14)\n",
    "scatter.set_ylabel('Normalised, Rounded Metacritic Ratings', Fontsize = 14)"
   ]
  },
  {
   "cell_type": "markdown",
   "metadata": {},
   "source": [
    "Looking at differences:"
   ]
  },
  {
   "cell_type": "code",
   "execution_count": 34,
   "metadata": {
    "collapsed": true
   },
   "outputs": [],
   "source": [
    "movies[\"fm_diff\"] = movies[\"Metacritic_norm_round\"] - movies[\"Fandango_Stars\"]"
   ]
  },
  {
   "cell_type": "code",
   "execution_count": 35,
   "metadata": {
    "collapsed": true
   },
   "outputs": [],
   "source": [
    "movies[\"fm_diff\"] = abs(movies[\"fm_diff\"])"
   ]
  },
  {
   "cell_type": "code",
   "execution_count": 36,
   "metadata": {},
   "outputs": [
    {
     "data": {
      "text/html": [
       "<div>\n",
       "<table border=\"1\" class=\"dataframe\">\n",
       "  <thead>\n",
       "    <tr style=\"text-align: right;\">\n",
       "      <th></th>\n",
       "      <th>FILM</th>\n",
       "      <th>RottenTomatoes</th>\n",
       "      <th>RottenTomatoes_User</th>\n",
       "      <th>Metacritic</th>\n",
       "      <th>Metacritic_User</th>\n",
       "      <th>IMDB</th>\n",
       "      <th>Fandango_Stars</th>\n",
       "      <th>Fandango_Ratingvalue</th>\n",
       "      <th>RT_norm</th>\n",
       "      <th>RT_user_norm</th>\n",
       "      <th>...</th>\n",
       "      <th>RT_norm_round</th>\n",
       "      <th>RT_user_norm_round</th>\n",
       "      <th>Metacritic_norm_round</th>\n",
       "      <th>Metacritic_user_norm_round</th>\n",
       "      <th>IMDB_norm_round</th>\n",
       "      <th>Metacritic_user_vote_count</th>\n",
       "      <th>IMDB_user_vote_count</th>\n",
       "      <th>Fandango_votes</th>\n",
       "      <th>Fandango_Difference</th>\n",
       "      <th>fm_diff</th>\n",
       "    </tr>\n",
       "  </thead>\n",
       "  <tbody>\n",
       "    <tr>\n",
       "      <th>3</th>\n",
       "      <td>Do You Believe? (2015)</td>\n",
       "      <td>18</td>\n",
       "      <td>84</td>\n",
       "      <td>22</td>\n",
       "      <td>4.7</td>\n",
       "      <td>5.4</td>\n",
       "      <td>5.0</td>\n",
       "      <td>4.5</td>\n",
       "      <td>0.90</td>\n",
       "      <td>4.20</td>\n",
       "      <td>...</td>\n",
       "      <td>1.0</td>\n",
       "      <td>4.0</td>\n",
       "      <td>1.0</td>\n",
       "      <td>2.5</td>\n",
       "      <td>2.5</td>\n",
       "      <td>31</td>\n",
       "      <td>3136</td>\n",
       "      <td>1793</td>\n",
       "      <td>0.5</td>\n",
       "      <td>4.0</td>\n",
       "    </tr>\n",
       "    <tr>\n",
       "      <th>85</th>\n",
       "      <td>Little Boy (2015)</td>\n",
       "      <td>20</td>\n",
       "      <td>81</td>\n",
       "      <td>30</td>\n",
       "      <td>5.9</td>\n",
       "      <td>7.4</td>\n",
       "      <td>4.5</td>\n",
       "      <td>4.3</td>\n",
       "      <td>1.00</td>\n",
       "      <td>4.05</td>\n",
       "      <td>...</td>\n",
       "      <td>1.0</td>\n",
       "      <td>4.0</td>\n",
       "      <td>1.5</td>\n",
       "      <td>3.0</td>\n",
       "      <td>3.5</td>\n",
       "      <td>38</td>\n",
       "      <td>5927</td>\n",
       "      <td>811</td>\n",
       "      <td>0.2</td>\n",
       "      <td>3.0</td>\n",
       "    </tr>\n",
       "    <tr>\n",
       "      <th>47</th>\n",
       "      <td>Annie (2014)</td>\n",
       "      <td>27</td>\n",
       "      <td>61</td>\n",
       "      <td>33</td>\n",
       "      <td>4.8</td>\n",
       "      <td>5.2</td>\n",
       "      <td>4.5</td>\n",
       "      <td>4.2</td>\n",
       "      <td>1.35</td>\n",
       "      <td>3.05</td>\n",
       "      <td>...</td>\n",
       "      <td>1.5</td>\n",
       "      <td>3.0</td>\n",
       "      <td>1.5</td>\n",
       "      <td>2.5</td>\n",
       "      <td>2.5</td>\n",
       "      <td>108</td>\n",
       "      <td>19222</td>\n",
       "      <td>6835</td>\n",
       "      <td>0.3</td>\n",
       "      <td>3.0</td>\n",
       "    </tr>\n",
       "    <tr>\n",
       "      <th>19</th>\n",
       "      <td>Pixels (2015)</td>\n",
       "      <td>17</td>\n",
       "      <td>54</td>\n",
       "      <td>27</td>\n",
       "      <td>5.3</td>\n",
       "      <td>5.6</td>\n",
       "      <td>4.5</td>\n",
       "      <td>4.1</td>\n",
       "      <td>0.85</td>\n",
       "      <td>2.70</td>\n",
       "      <td>...</td>\n",
       "      <td>1.0</td>\n",
       "      <td>2.5</td>\n",
       "      <td>1.5</td>\n",
       "      <td>2.5</td>\n",
       "      <td>3.0</td>\n",
       "      <td>246</td>\n",
       "      <td>19521</td>\n",
       "      <td>3886</td>\n",
       "      <td>0.4</td>\n",
       "      <td>3.0</td>\n",
       "    </tr>\n",
       "    <tr>\n",
       "      <th>134</th>\n",
       "      <td>The Longest Ride (2015)</td>\n",
       "      <td>31</td>\n",
       "      <td>73</td>\n",
       "      <td>33</td>\n",
       "      <td>4.8</td>\n",
       "      <td>7.2</td>\n",
       "      <td>4.5</td>\n",
       "      <td>4.5</td>\n",
       "      <td>1.55</td>\n",
       "      <td>3.65</td>\n",
       "      <td>...</td>\n",
       "      <td>1.5</td>\n",
       "      <td>3.5</td>\n",
       "      <td>1.5</td>\n",
       "      <td>2.5</td>\n",
       "      <td>3.5</td>\n",
       "      <td>49</td>\n",
       "      <td>25214</td>\n",
       "      <td>2603</td>\n",
       "      <td>0.0</td>\n",
       "      <td>3.0</td>\n",
       "    </tr>\n",
       "  </tbody>\n",
       "</table>\n",
       "<p>5 rows × 23 columns</p>\n",
       "</div>"
      ],
      "text/plain": [
       "                        FILM  RottenTomatoes  RottenTomatoes_User  Metacritic  \\\n",
       "3     Do You Believe? (2015)              18                   84          22   \n",
       "85         Little Boy (2015)              20                   81          30   \n",
       "47              Annie (2014)              27                   61          33   \n",
       "19             Pixels (2015)              17                   54          27   \n",
       "134  The Longest Ride (2015)              31                   73          33   \n",
       "\n",
       "     Metacritic_User  IMDB  Fandango_Stars  Fandango_Ratingvalue  RT_norm  \\\n",
       "3                4.7   5.4             5.0                   4.5     0.90   \n",
       "85               5.9   7.4             4.5                   4.3     1.00   \n",
       "47               4.8   5.2             4.5                   4.2     1.35   \n",
       "19               5.3   5.6             4.5                   4.1     0.85   \n",
       "134              4.8   7.2             4.5                   4.5     1.55   \n",
       "\n",
       "     RT_user_norm   ...     RT_norm_round  RT_user_norm_round  \\\n",
       "3            4.20   ...               1.0                 4.0   \n",
       "85           4.05   ...               1.0                 4.0   \n",
       "47           3.05   ...               1.5                 3.0   \n",
       "19           2.70   ...               1.0                 2.5   \n",
       "134          3.65   ...               1.5                 3.5   \n",
       "\n",
       "     Metacritic_norm_round  Metacritic_user_norm_round  IMDB_norm_round  \\\n",
       "3                      1.0                         2.5              2.5   \n",
       "85                     1.5                         3.0              3.5   \n",
       "47                     1.5                         2.5              2.5   \n",
       "19                     1.5                         2.5              3.0   \n",
       "134                    1.5                         2.5              3.5   \n",
       "\n",
       "     Metacritic_user_vote_count  IMDB_user_vote_count  Fandango_votes  \\\n",
       "3                            31                  3136            1793   \n",
       "85                           38                  5927             811   \n",
       "47                          108                 19222            6835   \n",
       "19                          246                 19521            3886   \n",
       "134                          49                 25214            2603   \n",
       "\n",
       "     Fandango_Difference  fm_diff  \n",
       "3                    0.5      4.0  \n",
       "85                   0.2      3.0  \n",
       "47                   0.3      3.0  \n",
       "19                   0.4      3.0  \n",
       "134                  0.0      3.0  \n",
       "\n",
       "[5 rows x 23 columns]"
      ]
     },
     "execution_count": 36,
     "metadata": {},
     "output_type": "execute_result"
    }
   ],
   "source": [
    "movies.sort_values(\"fm_diff\", ascending=False).head(5)"
   ]
  },
  {
   "cell_type": "code",
   "execution_count": 37,
   "metadata": {
    "collapsed": true
   },
   "outputs": [],
   "source": [
    "from scipy.stats.stats import pearsonr"
   ]
  },
  {
   "cell_type": "code",
   "execution_count": 38,
   "metadata": {
    "collapsed": true
   },
   "outputs": [],
   "source": [
    "r, p_value = pearsonr(movies[\"Metacritic_norm_round\"], movies[\"Fandango_Stars\"])\n"
   ]
  },
  {
   "cell_type": "code",
   "execution_count": 39,
   "metadata": {},
   "outputs": [
    {
     "name": "stdout",
     "output_type": "stream",
     "text": [
      "r value is: 0.18\n",
      "p value is: 0.03\n"
     ]
    }
   ],
   "source": [
    "print(\"r value is:\",format(r, '.2f'))\n",
    "print(\"p value is:\",format(p_value, '.2f'))"
   ]
  },
  {
   "cell_type": "markdown",
   "metadata": {},
   "source": [
    "Correlation is not high as shown by r value, so Fandango scores are not inflated, they are somehow fundamentally different in their ratings. While linear regression might not tell us much (given that there isn't much of a linear correlation) it would be one way of predicting Fandango ratings from metacritic ratings if there were one. "
   ]
  },
  {
   "cell_type": "code",
   "execution_count": 46,
   "metadata": {},
   "outputs": [
    {
     "name": "stdout",
     "output_type": "stream",
     "text": [
      "For a movie rated 3 on Metacritic, predict a rating of 4.1 on Fandango\n"
     ]
    }
   ],
   "source": [
    "from scipy.stats import linregress\n",
    "slope, intercept, r_value, p_value, std_err = linregress(movies[\"Metacritic_norm_round\"], movies[\"Fandango_Stars\"])\n",
    "pred_3 = 3 * slope + intercept\n",
    "prediction = format(pred_3, '.1f')\n",
    "print('For a movie rated 3 on Metacritic, predict a rating of',prediction,'on Fandango')"
   ]
  },
  {
   "cell_type": "code",
   "execution_count": 48,
   "metadata": {},
   "outputs": [
    {
     "name": "stdout",
     "output_type": "stream",
     "text": [
      "For a movie rated 1 on Metacritic, predict a rating of 3.9 on Fandango\n"
     ]
    }
   ],
   "source": [
    "pred_1 = slope + intercept\n",
    "\n",
    "prediction = format(pred_1, '.1f')\n",
    "print('For a movie rated 1 on Metacritic, predict a rating of',prediction,'on Fandango')"
   ]
  },
  {
   "cell_type": "code",
   "execution_count": 49,
   "metadata": {},
   "outputs": [
    {
     "name": "stdout",
     "output_type": "stream",
     "text": [
      "For a movie rated 5 on Metacritic, predict a rating of 4.3 on Fandango\n"
     ]
    }
   ],
   "source": [
    "pred_5 = 5 * slope + intercept\n",
    "prediction = format(pred_5, '.1f')\n",
    "print('For a movie rated 5 on Metacritic, predict a rating of',prediction,'on Fandango')"
   ]
  },
  {
   "cell_type": "code",
   "execution_count": 52,
   "metadata": {},
   "outputs": [
    {
     "data": {
      "text/plain": [
       "<matplotlib.text.Text at 0x11244b160>"
      ]
     },
     "execution_count": 52,
     "metadata": {},
     "output_type": "execute_result"
    },
    {
     "data": {
      "image/png": "[encoded data removed]",
      "text/plain": [
       "<matplotlib.figure.Figure at 0x1123fddd8>"
      ]
     },
     "metadata": {},
     "output_type": "display_data"
    }
   ],
   "source": [
    "plot = sns.regplot(x=movies[\"Fandango_Stars\"], y=movies[\"Metacritic_norm_round\"], fit_reg=True)\n",
    "plot.grid(False)\n",
    "plot.set_xlabel('Fandango Stars', Fontsize = 14)\n",
    "plot.set_ylabel('Normalised, Rounded Metacritic Ratings', Fontsize = 14)"
   ]
  },
  {
   "cell_type": "code",
   "execution_count": null,
   "metadata": {
    "collapsed": true
   },
   "outputs": [],
   "source": []
  }
 ],
 "metadata": {
  "kernelspec": {
   "display_name": "Python 3",
   "language": "python",
   "name": "python3"
  },
  "language_info": {
   "codemirror_mode": {
    "name": "ipython",
    "version": 3
   },
   "file_extension": ".py",
   "mimetype": "text/x-python",
   "name": "python",
   "nbconvert_exporter": "python",
   "pygments_lexer": "ipython3",
   "version": "3.6.3"
  }
 },
 "nbformat": 4,
 "nbformat_minor": 1
}
